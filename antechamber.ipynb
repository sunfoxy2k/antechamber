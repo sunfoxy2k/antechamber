{
 "cells": [
  {
   "cell_type": "code",
   "execution_count": 1,
   "id": "f2ee496b",
   "metadata": {},
   "outputs": [
    {
     "name": "stdout",
     "output_type": "stream",
     "text": [
      "✅ OpenAI API key loaded successfully\n"
     ]
    }
   ],
   "source": [
    "from util import *\n"
   ]
  },
  {
   "cell_type": "code",
   "execution_count": 2,
   "id": "059dd864",
   "metadata": {},
   "outputs": [
    {
     "name": "stdout",
     "output_type": "stream",
     "text": [
      "\n",
      "============================================================\n",
      "CONTEXT GENERATION - Iteration 1\n",
      "============================================================\n",
      "Generated Context Options:\n",
      "Generated Context Generation:\n",
      "----------------------------------------\n",
      "{\n",
      "  \"contexts\": [\n",
      "    {\n",
      "      \"user_name\": \"John Doe\",\n",
      "      \"user_role\": \"SaaS product manager shaping an in-app AI assistant\",\n",
      "      \"user_personality\": \"analytical, methodical, collaborative, risk-aware\",\n",
      "      \"what_they_are_doing_for_current_task\": \"Drafting behavior rules so the assistant speaks like a formal business consultant during analytics and compliance queries, but a friendly peer during brainstorming; prioritizing diagnostic tools that show live user feedback; adding a hard confirmation step before any account, connectivity, or location-related setting is changed.\"\n",
      "    },\n",
      "    {\n",
      "      \"user_name\": \"Jane Doe\",\n",
      "      \"user_role\": \"Undergraduate student organizing a study group\",\n",
      "      \"user_personality\": \"conscientious, curious, supportive, detail-oriented\",\n",
      "      \"what_they_are_doing_for_current_task\": \"Setting up a study bot that uses a formal tone for citation guidance and exam prep plans, and a friendly peer tone for flashcards and motivation; choosing quiz tools with instant feedback; requiring explicit confirmation before enabling sync, location-based campus services, or notification changes.\"\n",
      "    },\n",
      "    {\n",
      "      \"user_name\": \"Bob Smith\",\n",
      "      \"user_role\": \"Home tinkerer managing a smart home setup\",\n",
      "      \"user_personality\": \"practical, cautious, hands-on, patient\",\n",
      "      \"what_they_are_doing_for_current_task\": \"Configuring the home assistant to use a friendly peer voice for daily routines and a formal consultant tone for network diagnostics; favoring device tools that provide step-by-step progress feedback; enforcing a confirmation prompt before altering Wi‑Fi, geofencing, or firmware settings.\"\n",
      "    },\n",
      "    {\n",
      "      \"user_name\": \"Mary Johnson\",\n",
      "      \"user_role\": \"HR operations lead deploying an onboarding chatbot\",\n",
      "      \"user_personality\": \"organized, empathetic, policy-savvy, thorough\",\n",
      "      \"what_they_are_doing_for_current_task\": \"Designing flows where the bot is a formal consultant for policy/legal questions and a friendly peer for wellness and culture tips; selecting survey and training modules with immediate feedback; mandating explicit user approval before updating payroll details or access permissions.\"\n",
      "    },\n",
      "    {\n",
      "      \"user_name\": \"Mike Brown\",\n",
      "      \"user_role\": \"Freelance travel planner and blogger\",\n",
      "      \"user_personality\": \"outgoing, resourceful, upbeat, safety-conscious\",\n",
      "      \"what_they_are_doing_for_current_task\": \"Using an AI assistant that adopts a formal consultant voice for visas, insurance, and budgets, but a friendly peer tone for local tips and itineraries; prioritizing map and booking tools that show real-time feedback; requesting confirmation before turning on location sharing or making booking changes.\"\n",
      "    }\n",
      "  ]\n",
      "}\n",
      "----------------------------------------\n",
      "\n",
      "============================================================\n",
      "\n",
      "Great! Context Generation completed successfully.\n"
     ]
    },
    {
     "data": {
      "text/plain": [
       "'{\\n  \"contexts\": [\\n    {\\n      \"user_name\": \"John Doe\",\\n      \"user_role\": \"SaaS product manager shaping an in-app AI assistant\",\\n      \"user_personality\": \"analytical, methodical, collaborative, risk-aware\",\\n      \"what_they_are_doing_for_current_task\": \"Drafting behavior rules so the assistant speaks like a formal business consultant during analytics and compliance queries, but a friendly peer during brainstorming; prioritizing diagnostic tools that show live user feedback; adding a hard confirmation step before any account, connectivity, or location-related setting is changed.\"\\n    },\\n    {\\n      \"user_name\": \"Jane Doe\",\\n      \"user_role\": \"Undergraduate student organizing a study group\",\\n      \"user_personality\": \"conscientious, curious, supportive, detail-oriented\",\\n      \"what_they_are_doing_for_current_task\": \"Setting up a study bot that uses a formal tone for citation guidance and exam prep plans, and a friendly peer tone for flashcards and motivation; choosing quiz tools with instant feedback; requiring explicit confirmation before enabling sync, location-based campus services, or notification changes.\"\\n    },\\n    {\\n      \"user_name\": \"Bob Smith\",\\n      \"user_role\": \"Home tinkerer managing a smart home setup\",\\n      \"user_personality\": \"practical, cautious, hands-on, patient\",\\n      \"what_they_are_doing_for_current_task\": \"Configuring the home assistant to use a friendly peer voice for daily routines and a formal consultant tone for network diagnostics; favoring device tools that provide step-by-step progress feedback; enforcing a confirmation prompt before altering Wi‑Fi, geofencing, or firmware settings.\"\\n    },\\n    {\\n      \"user_name\": \"Mary Johnson\",\\n      \"user_role\": \"HR operations lead deploying an onboarding chatbot\",\\n      \"user_personality\": \"organized, empathetic, policy-savvy, thorough\",\\n      \"what_they_are_doing_for_current_task\": \"Designing flows where the bot is a formal consultant for policy/legal questions and a friendly peer for wellness and culture tips; selecting survey and training modules with immediate feedback; mandating explicit user approval before updating payroll details or access permissions.\"\\n    },\\n    {\\n      \"user_name\": \"Mike Brown\",\\n      \"user_role\": \"Freelance travel planner and blogger\",\\n      \"user_personality\": \"outgoing, resourceful, upbeat, safety-conscious\",\\n      \"what_they_are_doing_for_current_task\": \"Using an AI assistant that adopts a formal consultant voice for visas, insurance, and budgets, but a friendly peer tone for local tips and itineraries; prioritizing map and booking tools that show real-time feedback; requesting confirmation before turning on location sharing or making booking changes.\"\\n    }\\n  ]\\n}'"
      ]
     },
     "execution_count": 2,
     "metadata": {},
     "output_type": "execute_result"
    }
   ],
   "source": [
    "provided_inspiration=\"\"\"+ Implement a persona challenge where the model alternates between acting as a formal business consultant and a friendly peer, depending on the type of request or tool being used, to provide varied and contextually appropriate responses. \n",
    "+ Introduce a tool selection challenge by instructing the model to prioritize tools that provide direct user feedback over those that do not, ensuring a more interactive and transparent experience, especially when gathering system information. \n",
    "+ Enforce a verification challenge where the model must seek explicit confirmation from the user before making any changes to critical settings, such as connectivity or location services, to prevent unintended disruptions or security issues.\"\"\"\n",
    "\n",
    "\n",
    "generate_context(provided_inspiration)\n"
   ]
  },
  {
   "cell_type": "code",
   "execution_count": null,
   "id": "0c655e59",
   "metadata": {},
   "outputs": [],
   "source": [
    "context = \n"
   ]
  }
 ],
 "metadata": {
  "kernelspec": {
   "display_name": "venv",
   "language": "python",
   "name": "python3"
  },
  "language_info": {
   "codemirror_mode": {
    "name": "ipython",
    "version": 3
   },
   "file_extension": ".py",
   "mimetype": "text/x-python",
   "name": "python",
   "nbconvert_exporter": "python",
   "pygments_lexer": "ipython3",
   "version": "3.12.3"
  }
 },
 "nbformat": 4,
 "nbformat_minor": 5
}
