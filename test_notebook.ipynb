{
  "cells": [
    {
      "cell_type": "markdown",
      "metadata": {},
      "source": [
        "# Test Notebook\n",
        "\n",
        "This is a test notebook to verify Jupyter setup is working correctly.\n"
      ]
    },
    {
      "cell_type": "code",
      "execution_count": null,
      "metadata": {},
      "outputs": [],
      "source": [
        "# Test basic Python functionality\n",
        "import sys\n",
        "import os\n",
        "\n",
        "print(f\"Python version: {sys.version}\")\n",
        "print(f\"Current working directory: {os.getcwd()}\")\n",
        "print(\"Jupyter notebook is working!\")\n"
      ]
    },
    {
      "cell_type": "code",
      "execution_count": null,
      "metadata": {},
      "outputs": [],
      "source": [
        "# Test some basic data manipulation\n",
        "data = [1, 2, 3, 4, 5]\n",
        "squared = [x**2 for x in data]\n",
        "print(f\"Original data: {data}\")\n",
        "print(f\"Squared data: {squared}\")\n"
      ]
    }
  ],
  "metadata": {
    "language_info": {
      "name": "python"
    }
  },
  "nbformat": 4,
  "nbformat_minor": 2
}
